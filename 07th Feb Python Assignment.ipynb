{
 "cells": [
  {
   "cell_type": "markdown",
   "id": "3c16ce0b-154b-4a83-8fb2-c6d7b3121b3f",
   "metadata": {},
   "source": [
    "Q1: Q1. You are writing code for a company. The requirement of the company is that you create a python function that will check whether the password entered by the user is correct or not. The function should take the password as input and return the string “Valid Password” if the entered password follows the below-given password guidelines else it should return “Invalid Password”.\n",
    "\n",
    "Note: 1. The Password should contain at least two uppercase letters and at least two lowercase letters.\n",
    "2. The Password should contain at least a number and three special characters.\n",
    "3. The length of the password should be 10 characters long."
   ]
  },
  {
   "cell_type": "code",
   "execution_count": null,
   "id": "00806d40-2b7e-4461-8efc-efa4a84ea577",
   "metadata": {},
   "outputs": [],
   "source": [
    "def is_valid_password(password):\n",
    "    new_password = password.strip()\n",
    "\n",
    "    MIN_SIZE = 10\n",
    "    password_size = len(new_password)\n",
    "\n",
    "if password_size < MIN_SIZE\n",
    "return False\n",
    "\n",
    "Valid_chars = {'-', '_', '.', '!', '@', '#', '$', '^', '&', '(', ')'}\n",
    "    invalid_chars = set(punctuation + whitespace) - valid_chars\n",
    "\n",
    "for char in invalid_chars:\n",
    "    if char in new_password:\n",
    "        return False\n",
    "    password_has_digit = False\n",
    "\n",
    "for char in password:\n",
    "    if char in digits:\n",
    "        password_has_digit = True\n",
    "            break\n",
    "\n",
    "    if not password_has_digit:\n",
    "        return False\n",
    "\n",
    "    password_has_lowercase = False\n",
    "\n",
    "    for char in password:\n",
    "        if char in ascii_lowercase:\n",
    "            password_has_lowercase = True\n",
    "            break\n",
    "\n",
    "    if not password_has_lowercase:\n",
    "        return False\n",
    "\n",
    "\n",
    "    password_has_uppercase = False\n",
    "\n",
    "    for char in password:\n",
    "        if char in ascii_uppercase:\n",
    "            password_has_uppercase = True\n",
    "            break\n",
    "\n",
    "    if not password_has_uppercase:\n",
    "        return False\n",
    "\n",
    "    return True"
   ]
  },
  {
   "cell_type": "markdown",
   "id": "159f48fe-1365-4407-923f-bb57391184fe",
   "metadata": {},
   "source": [
    "Q2: Q2. Solve the below-given questions using at least one of the following:\n",
    "1. Lambda function\n",
    "2. Filter function\n",
    "3. Zap function\n",
    "4. List Comprehension"
   ]
  },
  {
   "cell_type": "code",
   "execution_count": 9,
   "id": "42c0bd5a-f0d8-4a95-8970-e65b68ee7609",
   "metadata": {},
   "outputs": [
    {
     "name": "stdout",
     "output_type": "stream",
     "text": [
      "[('grapes', 1000), ('mango', 99), ('orange', 80)]\n"
     ]
    }
   ],
   "source": [
    "## Sort a list of tuples\n",
    "\n",
    "sample = [(\"mango\",99),(\"orange\",80), (\"grapes\", 1000)]\n",
    "sample.sort()\n",
    "          \n",
    "print(sample)"
   ]
  },
  {
   "cell_type": "code",
   "execution_count": 11,
   "id": "bbdefc3b-2968-4577-9f5c-09018dff823f",
   "metadata": {},
   "outputs": [
    {
     "name": "stdout",
     "output_type": "stream",
     "text": [
      "1\n",
      "4\n",
      "9\n",
      "16\n",
      "25\n",
      "36\n",
      "49\n",
      "64\n",
      "81\n",
      "100\n"
     ]
    }
   ],
   "source": [
    "## Find the squares of numbers from 1 to 10\n",
    "for i in range(1, 11):\n",
    "    print(i*i)\n"
   ]
  },
  {
   "cell_type": "code",
   "execution_count": 12,
   "id": "6ba08eed-6fcc-4d41-8e61-01e0548e70d4",
   "metadata": {},
   "outputs": [
    {
     "name": "stdout",
     "output_type": "stream",
     "text": [
      "1\n",
      "8\n",
      "27\n",
      "64\n",
      "125\n",
      "216\n",
      "343\n",
      "512\n",
      "729\n",
      "1000\n"
     ]
    }
   ],
   "source": [
    "## Find the cube root of numbers from 1 to 10\n",
    "\n",
    "for i in range(1, 11):\n",
    "    print(i*i*i)"
   ]
  },
  {
   "cell_type": "code",
   "execution_count": null,
   "id": "4b789850-3a16-48ff-bf8d-8f8df06d44bc",
   "metadata": {},
   "outputs": [],
   "source": [
    "## Check if a given number is even\n",
    "\n",
    "num = int \n",
    "input (\"Enter any number to test whether it is odd or even:\")\n",
    "\n",
    "if (int % 2) == 0:\n",
    "    print (\"The number is even\")\n",
    "    \n",
    "else: \n",
    "        print (\"The provided number is odd\")"
   ]
  },
  {
   "cell_type": "code",
   "execution_count": null,
   "id": "7d278cf8-f55b-4e38-93cc-6b96d1212005",
   "metadata": {},
   "outputs": [],
   "source": []
  }
 ],
 "metadata": {
  "kernelspec": {
   "display_name": "Python 3 (ipykernel)",
   "language": "python",
   "name": "python3"
  },
  "language_info": {
   "codemirror_mode": {
    "name": "ipython",
    "version": 3
   },
   "file_extension": ".py",
   "mimetype": "text/x-python",
   "name": "python",
   "nbconvert_exporter": "python",
   "pygments_lexer": "ipython3",
   "version": "3.10.8"
  }
 },
 "nbformat": 4,
 "nbformat_minor": 5
}
