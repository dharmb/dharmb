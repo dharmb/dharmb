{
 "cells": [
  {
   "cell_type": "code",
   "execution_count": 1,
   "id": "9f9cbdf4-d348-48b4-ac77-e6b28ff8e8e3",
   "metadata": {},
   "outputs": [
    {
     "name": "stdout",
     "output_type": "stream",
     "text": [
      "Enter Marks Obtained in 5 Subjects: \n"
     ]
    },
    {
     "name": "stdin",
     "output_type": "stream",
     "text": [
      " 30\n",
      " 20\n",
      " 52\n",
      " 56\n",
      " 55\n"
     ]
    },
    {
     "name": "stdout",
     "output_type": "stream",
     "text": [
      "Your Grade is D\n"
     ]
    }
   ],
   "source": [
    "## Q1: Python programme to accept % and display grade\n",
    "\n",
    "mark = []\n",
    "tot = 0\n",
    "\n",
    "print(\"Enter Marks Obtained in 5 Subjects: \")\n",
    "for i in range(5):\n",
    "    mark.insert(i, input())\n",
    "\n",
    "for i in range(5):\n",
    "    tot = tot + int(mark[i])\n",
    "avg = tot/5\n",
    "\n",
    "if avg>90:\n",
    "    print(\"Your Grade is A\")\n",
    "elif avg>80 and avg<=90:\n",
    "    print(\"Your Grade is B\")\n",
    "elif avg>=60 and avg<=80:\n",
    "    print(\"Your Grade is C\")\n",
    "elif avg<=60:\n",
    "    print(\"Your Grade is D\")\n",
    "else:\n",
    "    print(\"Invalid Input!\")"
   ]
  },
  {
   "cell_type": "code",
   "execution_count": 2,
   "id": "7be11e0a-10cf-4361-bbad-3fd342136fc3",
   "metadata": {},
   "outputs": [
    {
     "name": "stdin",
     "output_type": "stream",
     "text": [
      "Enter the price of a bike 55000\n"
     ]
    },
    {
     "name": "stdout",
     "output_type": "stream",
     "text": [
      "Tax to be paid 5500.0\n"
     ]
    }
   ],
   "source": [
    "## Q2: Programme to display cost price  of a bike and display road tax\n",
    "\n",
    "tax = 0\n",
    "\n",
    "value = int(input(\"Enter the price of a bike\"))\n",
    "if value > 100000:\n",
    "    tax = 15/100*value\n",
    "elif value > 50000 and value <=100000:\n",
    "    tax = 10/100*value\n",
    "else:\n",
    "    tax = 5/100*value\n",
    "    \n",
    "print(\"Tax to be paid\", tax)"
   ]
  },
  {
   "cell_type": "code",
   "execution_count": 4,
   "id": "ea9e35c6-c378-4474-a8d8-9a7d9382fd86",
   "metadata": {},
   "outputs": [
    {
     "name": "stdin",
     "output_type": "stream",
     "text": [
      "Enter the name of the city Agra\n"
     ]
    },
    {
     "name": "stdout",
     "output_type": "stream",
     "text": [
      "The monument is : Taj Mahal\n"
     ]
    }
   ],
   "source": [
    "## Q3: Accept the city from the user and display monuments\n",
    "\n",
    "City = input(\"Enter the name of the city\")\n",
    "\n",
    "if City == \"Delhi\":\n",
    "    print(\"The monument is : Red Fort\")\n",
    "elif City == \"Agra\":\n",
    "    print(\"The monument is : Taj Mahal\")\n",
    "elif City == \"Jaipur\":\n",
    "    print(\"The monument is: Jal Mahal\")\n",
    "else:\n",
    "    print(\"Enter correct city name\")"
   ]
  },
  {
   "cell_type": "code",
   "execution_count": 5,
   "id": "eab060a1-67e6-421a-8baf-321a87f64d98",
   "metadata": {},
   "outputs": [
    {
     "name": "stdout",
     "output_type": "stream",
     "text": [
      "Total iteration required 3\n"
     ]
    }
   ],
   "source": [
    "## Q4: Check how many times a number can be devided by 3 before it is less than or equeal to 10\n",
    "\n",
    "count = 0\n",
    "number = 180\n",
    "\n",
    "while number > 10:\n",
    "    number = number/3\n",
    "    count = count+1\n",
    "    \n",
    "print(\"Total iteration required\", count)"
   ]
  },
  {
   "cell_type": "markdown",
   "id": "7d8641fd-602e-414d-af34-13d1b214b5f8",
   "metadata": {},
   "source": [
    "Q5: Why and how to us while  loop in python give detailed explanation with example"
   ]
  },
  {
   "cell_type": "markdown",
   "id": "c42c3fd5-da4c-450b-8b6c-4933c022afb5",
   "metadata": {},
   "source": [
    "Ans: It is used to execute a set of statements when a condition is true. It requires relevant variables. With the break statement we can stop the loop even if the while condition is true."
   ]
  },
  {
   "cell_type": "code",
   "execution_count": 15,
   "id": "ba19b2ac-4cec-4725-8fae-53ebfc2c1cdd",
   "metadata": {},
   "outputs": [
    {
     "ename": "SyntaxError",
     "evalue": "invalid syntax (3888494538.py, line 7)",
     "output_type": "error",
     "traceback": [
      "\u001b[0;36m  Cell \u001b[0;32mIn[15], line 7\u001b[0;36m\u001b[0m\n\u001b[0;31m    else:\u001b[0m\n\u001b[0m    ^\u001b[0m\n\u001b[0;31mSyntaxError\u001b[0m\u001b[0;31m:\u001b[0m invalid syntax\n"
     ]
    }
   ],
   "source": [
    "a = 1\n",
    "\n",
    "while a<5:\n",
    "    print(\"condition is true\")\n",
    "    \n",
    "    a=a+1\n",
    "    \n",
    "    else:\n",
    "        print(\"condition is false now\")"
   ]
  },
  {
   "cell_type": "code",
   "execution_count": 16,
   "id": "953e586e-c7b4-44b8-9704-bfd230e76452",
   "metadata": {},
   "outputs": [
    {
     "name": "stdout",
     "output_type": "stream",
     "text": [
      "1 \n",
      "1 2 \n",
      "1 2 3 \n",
      "1 2 3 4 \n",
      "1 2 3 4 5 \n"
     ]
    }
   ],
   "source": [
    "## Q6: Use nested  while loop to print 3 different pattern \n",
    "\n",
    "i=1\n",
    "while i<=5:\n",
    "    j=1\n",
    "    while j<=i:\n",
    "        print(j,end=\" \")\n",
    "        j=j+1\n",
    "    print(\"\")\n",
    "    i=i+1"
   ]
  },
  {
   "cell_type": "code",
   "execution_count": 17,
   "id": "6dd2d686-160f-430f-9b29-ba9c48de907d",
   "metadata": {},
   "outputs": [
    {
     "name": "stdout",
     "output_type": "stream",
     "text": [
      "10\n",
      "9\n",
      "8\n",
      "7\n",
      "6\n",
      "5\n",
      "4\n",
      "3\n",
      "2\n",
      "1\n"
     ]
    }
   ],
   "source": [
    "## Q7: Reverse a while loop to print a number from 10 to 1\n",
    "\n",
    "i = 10\n",
    "while i > 0:\n",
    "    print(i)\n",
    "    i = i - 1\n"
   ]
  },
  {
   "cell_type": "code",
   "execution_count": null,
   "id": "873123e3-79fc-4ce0-9b5c-964cb2fb0173",
   "metadata": {},
   "outputs": [],
   "source": []
  }
 ],
 "metadata": {
  "kernelspec": {
   "display_name": "Python 3 (ipykernel)",
   "language": "python",
   "name": "python3"
  },
  "language_info": {
   "codemirror_mode": {
    "name": "ipython",
    "version": 3
   },
   "file_extension": ".py",
   "mimetype": "text/x-python",
   "name": "python",
   "nbconvert_exporter": "python",
   "pygments_lexer": "ipython3",
   "version": "3.10.8"
  }
 },
 "nbformat": 4,
 "nbformat_minor": 5
}
