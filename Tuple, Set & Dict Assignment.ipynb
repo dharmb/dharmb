{
 "cells": [
  {
   "cell_type": "markdown",
   "id": "4f9b8bfe-fe91-4774-bc7f-7c08a5bb5598",
   "metadata": {},
   "source": [
    "Q.1: What are the characteristics of the tuples? Is tuple immutable?"
   ]
  },
  {
   "cell_type": "markdown",
   "id": "52b6a2f6-2a1b-4dad-ab8a-5965bb71ad74",
   "metadata": {},
   "source": [
    "Ansewer:\n",
    "1) They are indexed\n",
    "2) Truples are ordered\n",
    "3) Truples can contain duplicate items\n",
    "4) They are immutable"
   ]
  },
  {
   "cell_type": "markdown",
   "id": "a617eea8-25ff-4c4c-85b3-b2431e3eb6f3",
   "metadata": {},
   "source": [
    "Q.2: Q2. What are the two tuple methods in python? Give an example of each method. Give a reason why\n",
    "tuples have only two in-built methods as compared to Lists."
   ]
  },
  {
   "cell_type": "markdown",
   "id": "5c7b8778-c239-4a3a-b4e2-738a43ff8a73",
   "metadata": {},
   "source": [
    "Answer: There are two tuple methods in python one is count() and another is index()"
   ]
  },
  {
   "cell_type": "code",
   "execution_count": 4,
   "id": "d58ccabd-9347-46f8-ba4b-34b485bb01a9",
   "metadata": {},
   "outputs": [
    {
     "data": {
      "text/plain": [
       "2"
      ]
     },
     "execution_count": 4,
     "metadata": {},
     "output_type": "execute_result"
    }
   ],
   "source": [
    "## example of count() method\n",
    "t1= ('apple','orange','banana','apple')\n",
    "t1.count('apple')"
   ]
  },
  {
   "cell_type": "code",
   "execution_count": 40,
   "id": "c7a38620-0824-4f89-adfd-02b02ff2bf70",
   "metadata": {},
   "outputs": [
    {
     "data": {
      "text/plain": [
       "3"
      ]
     },
     "execution_count": 40,
     "metadata": {},
     "output_type": "execute_result"
    }
   ],
   "source": [
    "## example of index() method\n",
    "t1 = ('a','c','d')\n",
    "index =t1.index('c')\n",
    "print[index]"
   ]
  },
  {
   "cell_type": "markdown",
   "id": "f48de97e-b30b-438a-b195-487ff9d276a2",
   "metadata": {},
   "source": [
    "Q.3: Which collection datatypes in python do not allow duplicate items?Write a code using a set to remove\n",
    "duplicates from the given list.\n",
    "List = [1, 1, 1, 2, 1, 3, 1, 4, 2, 1, 2, 2, 2, 3, 2, 4, 3, 1, 3, 2, 3, 3, 3, 4, 4, 1, 4, 2, 4, 3, 4, 4]"
   ]
  },
  {
   "cell_type": "markdown",
   "id": "c70f7c50-cc72-4f08-98c4-eb6d9b96f19c",
   "metadata": {},
   "source": [
    "Answer:  A set is a type of collection that restricts the existence of duplicate values. "
   ]
  },
  {
   "cell_type": "code",
   "execution_count": 48,
   "id": "1e28da86-b698-4ffb-a6a1-41c0b379c96a",
   "metadata": {},
   "outputs": [
    {
     "data": {
      "text/plain": [
       "{1, 2, 3, 4}"
      ]
     },
     "execution_count": 48,
     "metadata": {},
     "output_type": "execute_result"
    }
   ],
   "source": [
    "## Removing duplicats with set option\n",
    "s2={1, 1, 1, 2, 1, 3, 1, 4, 2, 1, 2, 2, 2, 3, 2, 4, 3, 1, 3, 2, 3, 3, 3, 4, 4, 1, 4, 2, 4, 3, 4, 4}\n",
    "s2"
   ]
  },
  {
   "cell_type": "markdown",
   "id": "292fbbe6-d3c4-4111-940b-7ac73722f549",
   "metadata": {},
   "source": [
    "Q.4: Explain the difference between the union() and update() methods for a set. Give an example of\n",
    "each method."
   ]
  },
  {
   "cell_type": "markdown",
   "id": "977147dc-efdd-4aa7-9021-c4954e6a0909",
   "metadata": {},
   "source": [
    "Answer: union() gives a new set that contains all the elements from both sets, while update() changes one of the sets to include all the elements from both sets."
   ]
  },
  {
   "cell_type": "code",
   "execution_count": 55,
   "id": "6f03a0fe-1725-452a-a549-7fa92dbdd17e",
   "metadata": {},
   "outputs": [],
   "source": [
    "## example of union()\n",
    "s1={1,2,3}\n",
    "s2={4,5,6}\n",
    "s3=s1.union(s1,s2)"
   ]
  },
  {
   "cell_type": "code",
   "execution_count": 51,
   "id": "13518af8-7556-442f-9f84-c182eae3c395",
   "metadata": {},
   "outputs": [
    {
     "data": {
      "text/plain": [
       "{1, 2, 3, 4, 5, 6}"
      ]
     },
     "execution_count": 51,
     "metadata": {},
     "output_type": "execute_result"
    }
   ],
   "source": [
    "s3"
   ]
  },
  {
   "cell_type": "code",
   "execution_count": 63,
   "id": "772910de-ed3c-4ab4-a6e0-bead7420f814",
   "metadata": {},
   "outputs": [
    {
     "data": {
      "text/plain": [
       "{1, 2, 'a', 'b'}"
      ]
     },
     "execution_count": 63,
     "metadata": {},
     "output_type": "execute_result"
    }
   ],
   "source": [
    "s1={1,2}\n",
    "s2={'a','b'}\n",
    "s2.update(s1,s2)\n",
    "s2"
   ]
  },
  {
   "cell_type": "markdown",
   "id": "65eeb2ee-a7d4-4679-b3a7-bd8c1e379a1b",
   "metadata": {},
   "source": [
    "Q.5: What is a dictionary? Give an example. Also, state whether a dictionary is ordered or unordered."
   ]
  },
  {
   "cell_type": "markdown",
   "id": "69127506-d3b8-4296-b0db-13232e297847",
   "metadata": {},
   "source": [
    "Answer: dictionaries are mutable data structures that allow you to store key-value pairs. Dictionaries are unordered."
   ]
  },
  {
   "cell_type": "code",
   "execution_count": 65,
   "id": "3ba86988-e2d9-41c3-ae66-ad24bedff637",
   "metadata": {},
   "outputs": [],
   "source": [
    "## Example of a Dictionary\n",
    "d1 = {\"name\": \"Dharm\", \"email id\": \"dharmbhatt52@gmail.com\"}"
   ]
  },
  {
   "cell_type": "markdown",
   "id": "6eef92cc-165c-404e-a6ac-2bda391cc9d3",
   "metadata": {},
   "source": [
    "Q.6: Can we create a nested dictionary? If so, please give an example by creating a simple one-level nested dictionary."
   ]
  },
  {
   "cell_type": "markdown",
   "id": "3f63b6de-49c0-4839-a651-5427480d268c",
   "metadata": {},
   "source": [
    "Answer: Yes we can create a nested dictionary in python with the The dict() constructor"
   ]
  },
  {
   "cell_type": "code",
   "execution_count": 74,
   "id": "cdc6af0e-38bb-4201-b2af-d654d7096b4a",
   "metadata": {},
   "outputs": [
    {
     "data": {
      "text/plain": [
       "{'dict1': {'Color': 'Red', 'Shape': 'Square'},\n",
       " 'dict2': {'Color': 'Pink', 'Shape': 'Round'}}"
      ]
     },
     "execution_count": 74,
     "metadata": {},
     "output_type": "execute_result"
    }
   ],
   "source": [
    "## Example of a nested distionary\n",
    "nes_dict = {'dict1': {'Color': 'Red', 'Shape': 'Square'}, 'dict2': {'Color': 'Pink', 'Shape': 'Round'}}\n",
    "nes_dict"
   ]
  },
  {
   "cell_type": "markdown",
   "id": "c4796d59-50c7-482a-b396-facb7f350c35",
   "metadata": {},
   "source": [
    "Q.7: Using setdefault() method, create key named topics in the given dictionary and also add the value of the key as this list\n",
    "['Python', 'Machine Learning’, 'Deep Learning']\n",
    "dict1 = {'language' : 'Python', 'course': 'Data Science Masters'}"
   ]
  },
  {
   "cell_type": "code",
   "execution_count": 82,
   "id": "9384b608-fbdc-4f66-bf99-6367e9b02cc7",
   "metadata": {},
   "outputs": [
    {
     "data": {
      "text/plain": [
       "{'language': 'Python', 'course': 'Data Science Masters', ' ': 'Python'}"
      ]
     },
     "execution_count": 82,
     "metadata": {},
     "output_type": "execute_result"
    }
   ],
   "source": [
    "dict1={'language':'Python', 'course':'Data Science Masters'}\n",
    "dict1.setdefault(' ','Python')\n",
    "dict1"
   ]
  },
  {
   "cell_type": "markdown",
   "id": "d5241623-85d9-463c-b035-e4f45c08db9e",
   "metadata": {},
   "source": [
    "Q.8: What are the three view objects in dictionaries? Use the three in-built methods in python to display these three view objects for the given dictionary.\n",
    "dict1 = {'Sport': 'Cricket' , 'Teams': ['India', 'Australia', 'England', 'South Africa', 'Sri Lanka', 'New Zealand']}"
   ]
  },
  {
   "cell_type": "markdown",
   "id": "3f449456-070c-4b7a-9f84-fb3b3587370c",
   "metadata": {},
   "source": [
    "Three view object in dictionaris are key, values and items\n"
   ]
  },
  {
   "cell_type": "code",
   "execution_count": 83,
   "id": "423dc644-34c7-491a-bb1b-767f7c3ed091",
   "metadata": {},
   "outputs": [
    {
     "data": {
      "text/plain": [
       "dict_keys(['Sport', 'Teams'])"
      ]
     },
     "execution_count": 83,
     "metadata": {},
     "output_type": "execute_result"
    }
   ],
   "source": [
    "## Key display\n",
    "dict1 = {'Sport': 'Cricket' , 'Teams': ['India', 'Australia', 'England', 'South Africa', 'Sri Lanka', 'New Zealand']}\n",
    "dict1.keys()"
   ]
  },
  {
   "cell_type": "code",
   "execution_count": 84,
   "id": "a5d5e523-7410-4502-a9ba-25089c5533a1",
   "metadata": {},
   "outputs": [
    {
     "data": {
      "text/plain": [
       "dict_values(['Cricket', ['India', 'Australia', 'England', 'South Africa', 'Sri Lanka', 'New Zealand']])"
      ]
     },
     "execution_count": 84,
     "metadata": {},
     "output_type": "execute_result"
    }
   ],
   "source": [
    "## Values display\n",
    "dict1.values()"
   ]
  },
  {
   "cell_type": "code",
   "execution_count": 85,
   "id": "2410cd7f-801a-4d87-b7b0-ff1fd6a0323b",
   "metadata": {},
   "outputs": [
    {
     "data": {
      "text/plain": [
       "dict_items([('Sport', 'Cricket'), ('Teams', ['India', 'Australia', 'England', 'South Africa', 'Sri Lanka', 'New Zealand'])])"
      ]
     },
     "execution_count": 85,
     "metadata": {},
     "output_type": "execute_result"
    }
   ],
   "source": [
    "## items display\n",
    "dict1.items()"
   ]
  },
  {
   "cell_type": "code",
   "execution_count": null,
   "id": "85bd83fb-0b52-4d79-a9ab-9d90e9821f84",
   "metadata": {},
   "outputs": [],
   "source": []
  }
 ],
 "metadata": {
  "kernelspec": {
   "display_name": "Python 3 (ipykernel)",
   "language": "python",
   "name": "python3"
  },
  "language_info": {
   "codemirror_mode": {
    "name": "ipython",
    "version": 3
   },
   "file_extension": ".py",
   "mimetype": "text/x-python",
   "name": "python",
   "nbconvert_exporter": "python",
   "pygments_lexer": "ipython3",
   "version": "3.10.8"
  }
 },
 "nbformat": 4,
 "nbformat_minor": 5
}
