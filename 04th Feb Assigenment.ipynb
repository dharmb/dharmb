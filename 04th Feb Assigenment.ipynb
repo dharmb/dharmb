{
 "cells": [
  {
   "cell_type": "markdown",
   "id": "6f61a8d2-ebce-490e-81f1-5c3e6325e57a",
   "metadata": {},
   "source": [
    "Q.1: Create a python program to sort the given list of tuples based on integer value using a\n",
    "lambda function.\n",
    "[('Sachin Tendulkar', 34357), ('Ricky Ponting', 27483), ('Jack Kallis', 25534), ('Virat Kohli', 24936)]"
   ]
  },
  {
   "cell_type": "code",
   "execution_count": 1,
   "id": "881a42cf-01e4-411b-af2e-7770e2a84ee7",
   "metadata": {},
   "outputs": [],
   "source": [
    "## Answer 1:\n",
    "\n",
    "l1 =[('Sachin Tendulkar', 34357), ('Ricky Ponting', 27483), ('Jack Kallis', 25534), ('Virat Kohli', 24936)]"
   ]
  },
  {
   "cell_type": "code",
   "execution_count": 6,
   "id": "8d5a7e40-b69f-4b58-bca3-c8d3798bb3c9",
   "metadata": {},
   "outputs": [
    {
     "name": "stdout",
     "output_type": "stream",
     "text": [
      "[('Virat Kohli', 24936), ('Jack Kallis', 25534), ('Ricky Ponting', 27483), ('Sachin Tendulkar', 34357)]\n"
     ]
    }
   ],
   "source": [
    "l1.sort(key = lambda x: x[1])\n",
    "print(l1)"
   ]
  },
  {
   "cell_type": "markdown",
   "id": "fe162f07-e684-4197-afec-27976c44c3ad",
   "metadata": {},
   "source": [
    "Q.2: Write a Python Program to find the squares of all the numbers in the given list of integers using lambda and map functions."
   ]
  },
  {
   "cell_type": "code",
   "execution_count": 7,
   "id": "325dc142-1a78-4f87-a386-93ac9b9333a7",
   "metadata": {},
   "outputs": [],
   "source": [
    "## Answer 2:\n",
    "\n",
    "l1 = [1, 2, 3, 4, 5, 6, 7, 8, 9, 10]"
   ]
  },
  {
   "cell_type": "code",
   "execution_count": 8,
   "id": "cf097e9d-f126-476a-917a-97029c98d8be",
   "metadata": {},
   "outputs": [
    {
     "data": {
      "text/plain": [
       "[1, 4, 9, 16, 25, 36, 49, 64, 81, 100]"
      ]
     },
     "execution_count": 8,
     "metadata": {},
     "output_type": "execute_result"
    }
   ],
   "source": [
    "list(map(lambda x : x**2, l1))"
   ]
  },
  {
   "cell_type": "markdown",
   "id": "2fc93fa1-42a6-4829-8df1-887a9aa5fe52",
   "metadata": {},
   "source": [
    "Q.3: Write a python program to convert the given list of integers into a tuple of strings. Use map and lambda functions"
   ]
  },
  {
   "cell_type": "code",
   "execution_count": 9,
   "id": "2034f6e8-d553-496e-85b7-1fd87f55968b",
   "metadata": {},
   "outputs": [],
   "source": [
    "## Answer 3\n",
    "l1 = [1, 2, 3, 4, 5, 6, 7, 8, 9, 10]"
   ]
  },
  {
   "cell_type": "code",
   "execution_count": 10,
   "id": "ec81b351-e3b0-4896-b257-f6d8415020a6",
   "metadata": {},
   "outputs": [
    {
     "data": {
      "text/plain": [
       "['1', '2', '3', '4', '5', '6', '7', '8', '9', '10']"
      ]
     },
     "execution_count": 10,
     "metadata": {},
     "output_type": "execute_result"
    }
   ],
   "source": [
    "list(map(lambda x : str(x), l1))"
   ]
  },
  {
   "cell_type": "markdown",
   "id": "4ab6b696-e9ff-45ab-b690-0619458da0b2",
   "metadata": {},
   "source": [
    "Q.4: Write a python program using reduce function to compute the product of a list containing numbers from 1 to 25."
   ]
  },
  {
   "cell_type": "code",
   "execution_count": 32,
   "id": "c5c68f31-fca9-4fd9-983e-5b9f7bacfa62",
   "metadata": {},
   "outputs": [
    {
     "name": "stdout",
     "output_type": "stream",
     "text": [
      "15511210043330985984000000\n"
     ]
    }
   ],
   "source": [
    "from functools import reduce\n",
    "l1 = [1,2,3,4,5,6,7,8,9,10,11,12,13,14,15,16,17,18,19,20,21,22,23,24,25]\n",
    "l1 = reduce( (lambda x, y: x * y), l1)\n",
    "print(l1)"
   ]
  },
  {
   "cell_type": "markdown",
   "id": "e44d6f7c-166e-4eee-8e7e-4a34b7542905",
   "metadata": {},
   "source": [
    "Q.5: Write a python program to filter the numbers in a given list that are divisible by 2 and 3 using the filter function."
   ]
  },
  {
   "cell_type": "code",
   "execution_count": 38,
   "id": "f4ccf66e-38ce-40cf-b4ad-fd26acd94da0",
   "metadata": {},
   "outputs": [
    {
     "data": {
      "text/plain": [
       "[2, 6, 60, 90, 120, 46]"
      ]
     },
     "execution_count": 38,
     "metadata": {},
     "output_type": "execute_result"
    }
   ],
   "source": [
    "## Answer 5:\n",
    "l1 = [2, 3, 6, 9, 27, 60, 90, 120, 55, 46]\n",
    "list(filter (lambda x: x % 2 == 0, l1))"
   ]
  },
  {
   "cell_type": "code",
   "execution_count": 39,
   "id": "8bdbe0dc-92b1-4420-8156-c696d7a01488",
   "metadata": {},
   "outputs": [
    {
     "data": {
      "text/plain": [
       "[3, 6, 9, 27, 60, 90, 120]"
      ]
     },
     "execution_count": 39,
     "metadata": {},
     "output_type": "execute_result"
    }
   ],
   "source": [
    "## Answer 5:\n",
    "l1 = [2, 3, 6, 9, 27, 60, 90, 120, 55, 46]\n",
    "list(filter (lambda x: x % 3 == 0, l1))"
   ]
  },
  {
   "cell_type": "markdown",
   "id": "78bd5d9e-f213-49fd-b264-7c85a85b5559",
   "metadata": {},
   "source": [
    "Q.6: Write a python program to find palindromes in the given list of strings using lambda and filter function."
   ]
  },
  {
   "cell_type": "code",
   "execution_count": 41,
   "id": "fa36bed8-ae6f-4b6e-b667-3574f8d859e2",
   "metadata": {},
   "outputs": [
    {
     "data": {
      "text/plain": [
       "['php', 'aba', 'radar', 'level']"
      ]
     },
     "execution_count": 41,
     "metadata": {},
     "output_type": "execute_result"
    }
   ],
   "source": [
    "## Answer 6: \n",
    "l1 = ['python', 'php', 'aba', 'radar', 'level']\n",
    "list(filter(lambda x: (x == \"\".join(reversed(x))), l1)) "
   ]
  },
  {
   "cell_type": "code",
   "execution_count": null,
   "id": "3f2179cc-5b40-4e12-9774-b87d2e0c8632",
   "metadata": {},
   "outputs": [],
   "source": []
  }
 ],
 "metadata": {
  "kernelspec": {
   "display_name": "Python 3 (ipykernel)",
   "language": "python",
   "name": "python3"
  },
  "language_info": {
   "codemirror_mode": {
    "name": "ipython",
    "version": 3
   },
   "file_extension": ".py",
   "mimetype": "text/x-python",
   "name": "python",
   "nbconvert_exporter": "python",
   "pygments_lexer": "ipython3",
   "version": "3.10.8"
  }
 },
 "nbformat": 4,
 "nbformat_minor": 5
}
