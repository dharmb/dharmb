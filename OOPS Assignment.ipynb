{
 "cells": [
  {
   "cell_type": "markdown",
   "id": "82410e73-2e43-444d-94da-93f26c3c7c0f",
   "metadata": {},
   "source": [
    "Q1. Explain Class and Object with respect to Object-Oriented Programming. Give a suitable example."
   ]
  },
  {
   "cell_type": "markdown",
   "id": "75a1e905-55ee-4e14-9bb0-b98e6b5cec38",
   "metadata": {},
   "source": [
    "Answer: A class is a code template for creating objects. Objects have member variables and have behaviour associated with them. In python a class is created by the keyword class . An object is created using the constructor of the class. This object will then be called the instance of the class."
   ]
  },
  {
   "cell_type": "code",
   "execution_count": 1,
   "id": "d9e566ac-6e53-41d0-9c84-7c2192933eec",
   "metadata": {},
   "outputs": [
    {
     "name": "stdout",
     "output_type": "stream",
     "text": [
      "Name: Mountain Bike, Gears: 11 \n"
     ]
    }
   ],
   "source": [
    "## Class and Objecte Example:\n",
    "\n",
    "class Bike:\n",
    "    name = \"\"\n",
    "    gear = 0\n",
    "bike1 = Bike()\n",
    "bike1.gear = 11\n",
    "bike1.name = \"Mountain Bike\"\n",
    "\n",
    "print(f\"Name: {bike1.name}, Gears: {bike1.gear} \")"
   ]
  },
  {
   "cell_type": "markdown",
   "id": "337179cd-2be4-43c0-94e4-2783833afa65",
   "metadata": {},
   "source": [
    "Q2. Name the four pillars of OOPs."
   ]
  },
  {
   "cell_type": "markdown",
   "id": "56af916d-e285-4f9c-bd6d-f97b1622b569",
   "metadata": {},
   "source": [
    "Answer: The four pillars of OOPs are abstraction, encapsulation, inheritance, and polymorphism"
   ]
  },
  {
   "cell_type": "markdown",
   "id": "b13462b2-f657-48ab-8e96-a8f50493403c",
   "metadata": {},
   "source": [
    "Q3. Explain why the __init__() function is used. Give a suitable example."
   ]
  },
  {
   "cell_type": "markdown",
   "id": "a28d4a6f-7afb-4485-a552-85bfb059ce38",
   "metadata": {},
   "source": [
    "Answer: Explain why the __init__() function is used. Give a suitable example."
   ]
  },
  {
   "cell_type": "code",
   "execution_count": 2,
   "id": "b78d8baa-704b-4e0c-bfc3-0eb5d39e2f4d",
   "metadata": {},
   "outputs": [
    {
     "name": "stdout",
     "output_type": "stream",
     "text": [
      "From: London\n",
      "To_city: India\n"
     ]
    }
   ],
   "source": [
    "## Example of int()function\n",
    "\n",
    "class Trip:\n",
    "    def __init__(self, to_city, from_city):\n",
    "        self.to_city = to_city\n",
    "        self.from_city = from_city\n",
    " \n",
    "    def holiday(self):\n",
    "     return (\"From: \" + self.from_city + \"\\nTo_city: \" + self.to_city)\n",
    " \n",
    "T = Trip('India', 'London')\n",
    "print(T.holiday())\n"
   ]
  },
  {
   "cell_type": "markdown",
   "id": "7ff1bc62-115e-4c0f-b44e-65021c0c8c81",
   "metadata": {},
   "source": [
    "Q4: Why self is used in OOPs?"
   ]
  },
  {
   "cell_type": "markdown",
   "id": "ed2a9905-739a-4d4f-be5b-12034ed6200e",
   "metadata": {},
   "source": [
    "Answer: Self represents the instance of the class. By using the “self” we can access the attributes and methods of the class in Python"
   ]
  },
  {
   "cell_type": "markdown",
   "id": "de32ceb9-6012-4ed8-9bc3-0da409ab1a05",
   "metadata": {},
   "source": [
    "Q5: What is inheritance? Give an example for each type of inheritance.\n",
    "\n",
    "Answer: Inheritance is defined as the mechanism of inheriting the properties of the base class to the child class."
   ]
  },
  {
   "cell_type": "code",
   "execution_count": 3,
   "id": "96593b17-b741-4506-a24a-c3fed67a67eb",
   "metadata": {},
   "outputs": [
    {
     "name": "stdout",
     "output_type": "stream",
     "text": [
      "This function is in parent class.\n",
      "This function is in child class.\n"
     ]
    }
   ],
   "source": [
    "## Single Inheritance: \n",
    "\n",
    "# Python program to demonstrate\n",
    "# single inheritance\n",
    "class Parent:\n",
    "    def func1(self):\n",
    "        print(\"This function is in parent class.\")\n",
    "class Child(Parent):\n",
    "    def func2(self):\n",
    "        print(\"This function is in child class.\")\n",
    "object = Child()\n",
    "object.func1()\n",
    "object.func2()"
   ]
  },
  {
   "cell_type": "code",
   "execution_count": null,
   "id": "797f6c7a-569e-4f4f-b9d1-9024bc50af3e",
   "metadata": {},
   "outputs": [],
   "source": []
  }
 ],
 "metadata": {
  "kernelspec": {
   "display_name": "Python 3 (ipykernel)",
   "language": "python",
   "name": "python3"
  },
  "language_info": {
   "codemirror_mode": {
    "name": "ipython",
    "version": 3
   },
   "file_extension": ".py",
   "mimetype": "text/x-python",
   "name": "python",
   "nbconvert_exporter": "python",
   "pygments_lexer": "ipython3",
   "version": "3.10.8"
  }
 },
 "nbformat": 4,
 "nbformat_minor": 5
}
