{
 "cells": [
  {
   "cell_type": "markdown",
   "id": "84d5ffe0-d674-4605-bc18-e14a6cddff6d",
   "metadata": {},
   "source": [
    "Q.1: Which keyword is used to create a function?Create a function to return a list of odd numbers in the\n",
    "range of 1 to 25."
   ]
  },
  {
   "cell_type": "markdown",
   "id": "e2802c4f-7398-4e0d-b51a-2c7b2700a411",
   "metadata": {},
   "source": [
    "Ans: The def keyword is used to create, (or define) a function."
   ]
  },
  {
   "cell_type": "code",
   "execution_count": 9,
   "id": "53e73b70-0911-483f-8e38-11316d0acd16",
   "metadata": {},
   "outputs": [
    {
     "name": "stdout",
     "output_type": "stream",
     "text": [
      "1 3 5 7 9 11 13 15 17 19 "
     ]
    }
   ],
   "source": [
    "## Function to return a list of odd numbers in the range of 1 to 25\n",
    "\n",
    "start,end= 1,20\n",
    "for num in range(start,end+1):\n",
    "    if num % 2 !=0:\n",
    "        print(num, end = \" \")"
   ]
  },
  {
   "cell_type": "markdown",
   "id": "83783942-3855-4a31-a5e5-47e44564ea23",
   "metadata": {},
   "source": [
    "Q.2: Why *args and **kwargs is used in some functions? Create a function each for *args and **kwargs to\n",
    "demonstrate their use."
   ]
  },
  {
   "cell_type": "markdown",
   "id": "35de1d5f-fd04-4c99-ae27-6be0e36366e1",
   "metadata": {},
   "source": [
    "Ans: *args and **kwargs are used in functions when you not sure about the number of arguments to pass in the functions."
   ]
  },
  {
   "cell_type": "code",
   "execution_count": 10,
   "id": "31ce47b6-a54b-46a5-bcc4-c21e6fe6f150",
   "metadata": {},
   "outputs": [
    {
     "name": "stdout",
     "output_type": "stream",
     "text": [
      "arg1: Geeks\n",
      "arg2: for\n",
      "arg3: Geeks\n",
      "arg1: Geeks\n",
      "arg2: for\n",
      "arg3: Geeks\n"
     ]
    }
   ],
   "source": [
    "## Example for *args and **kwargs\n",
    "\n",
    "def myFun(arg1, arg2, arg3):\n",
    "    \n",
    "    print(\"arg1:\", arg1)\n",
    "    print(\"arg2:\", arg2)\n",
    "    print(\"arg3:\", arg3)\n",
    "args = (\"Geeks\", \"for\", \"Geeks\")\n",
    "myFun(*args)\n",
    "kwargs = {\"arg1\": \"Geeks\", \"arg2\": \"for\", \"arg3\": \"Geeks\"}\n",
    "myFun(**kwargs)"
   ]
  },
  {
   "cell_type": "markdown",
   "id": "aaee81e7-d13e-40e9-8e6a-574705bd7fa4",
   "metadata": {},
   "source": [
    "Q.3: What is an iterator in python? Name the method used to initialise the iterator object and the method\n",
    "used for iteration. Use these methods to print the first five elements of the given list [2, 4, 6, 8, 10, 12, 14, 16,\n",
    "18, 20]."
   ]
  },
  {
   "cell_type": "markdown",
   "id": "899348cd-3e3d-49c5-a5d8-01f209706fcc",
   "metadata": {},
   "source": [
    "Ans: iterator is an object the contains a countable number of values. itt is an object which implements the iterator protocol, which consist of the methods __iter__() and __next__() ."
   ]
  },
  {
   "cell_type": "code",
   "execution_count": 24,
   "id": "cadfa208-2186-42a8-98b0-36514b8b393f",
   "metadata": {},
   "outputs": [
    {
     "name": "stdout",
     "output_type": "stream",
     "text": [
      "[2, 4, 6, 8, 10]\n"
     ]
    }
   ],
   "source": [
    "## Methods to print first five elements of the list[2,4,6,8,10,12,14,16,18,20]\n",
    "source_list=[2,4,6,8,10,12,14,16,18,20]\n",
    "n=5\n",
    "new_list=source_list[:n]\n",
    "print(new_list)"
   ]
  },
  {
   "cell_type": "markdown",
   "id": "bc8e6d87-035b-48c4-ba24-86e02e139448",
   "metadata": {},
   "source": [
    "Q.4: What is a generator function in python? Why yield keyword is used? Give an example of a generator function."
   ]
  },
  {
   "cell_type": "markdown",
   "id": "947dec89-78ea-4909-b541-e30db2769478",
   "metadata": {},
   "source": [
    "Ans: Generator function allows you to declare a function that behaves like an iterator, providing a faster and easier way to create iterators. Yield keyword is used to create a generator function. A type of function that is memory efficient and can be used like an iterator object."
   ]
  },
  {
   "cell_type": "code",
   "execution_count": 30,
   "id": "0bc9d1f9-c77e-424e-8eb5-8997ec68bfda",
   "metadata": {},
   "outputs": [
    {
     "name": "stdout",
     "output_type": "stream",
     "text": [
      "<class 'generator'>\n",
      "Hello world!!\n",
      "Geeksforgeeks\n"
     ]
    }
   ],
   "source": [
    "##  example of a generator function.\n",
    "\n",
    "def fun_generator():\n",
    "    yield \"Hello world!!\"\n",
    "    yield \"Geeksforgeeks\"\n",
    " \n",
    " \n",
    "obj = fun_generator()\n",
    " \n",
    "print(type(obj))\n",
    " \n",
    "print(next(obj))\n",
    "print(next(obj))"
   ]
  },
  {
   "cell_type": "markdown",
   "id": "e7aeed02-9478-40dd-90b5-de962ece39b1",
   "metadata": {},
   "source": [
    "Q.5: Create a generator function for prime numbers less than 1000. Use the next() method to print the first 20 prime numbers."
   ]
  },
  {
   "cell_type": "code",
   "execution_count": 31,
   "id": "9c55c79e-c474-415c-a950-bc6c1257df6a",
   "metadata": {},
   "outputs": [
    {
     "name": "stdin",
     "output_type": "stream",
     "text": [
      "Input the number of prime numbers you want to generate?  20\n"
     ]
    },
    {
     "name": "stdout",
     "output_type": "stream",
     "text": [
      "First 20 Prime numbers:\n",
      "2\n",
      "3\n",
      "5\n",
      "7\n",
      "11\n",
      "13\n",
      "17\n",
      "19\n",
      "23\n",
      "29\n",
      "31\n",
      "37\n",
      "41\n",
      "43\n",
      "47\n",
      "53\n",
      "59\n",
      "61\n",
      "67\n",
      "71\n"
     ]
    }
   ],
   "source": [
    "def is_prime(n):\n",
    "    if n <= 1:\n",
    "        return False\n",
    "    for i in range(2, int(n**0.5) + 1):\n",
    "        if n % i == 0:\n",
    "            return False\n",
    "    return True\n",
    "\n",
    "def prime_nums_generator():\n",
    "    n = 2\n",
    "    while True:\n",
    "        if is_prime(n):\n",
    "            yield n\n",
    "        n += 1\n",
    "primes = prime_nums_generator()\n",
    "n = int(input(\"Input the number of prime numbers you want to generate? \"))\n",
    "print(\"First\",n,\"Prime numbers:\")\n",
    "for _ in range(n):\n",
    "    print(next(primes))"
   ]
  },
  {
   "cell_type": "code",
   "execution_count": null,
   "id": "94c1ad33-9118-4fe9-b8a3-4c89c0097fdd",
   "metadata": {},
   "outputs": [],
   "source": []
  }
 ],
 "metadata": {
  "kernelspec": {
   "display_name": "Python 3 (ipykernel)",
   "language": "python",
   "name": "python3"
  },
  "language_info": {
   "codemirror_mode": {
    "name": "ipython",
    "version": 3
   },
   "file_extension": ".py",
   "mimetype": "text/x-python",
   "name": "python",
   "nbconvert_exporter": "python",
   "pygments_lexer": "ipython3",
   "version": "3.10.8"
  }
 },
 "nbformat": 4,
 "nbformat_minor": 5
}
