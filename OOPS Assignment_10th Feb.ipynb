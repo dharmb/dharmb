{
 "cells": [
  {
   "cell_type": "markdown",
   "id": "f9997cd5-0eb9-4d87-9a86-f15eebb6fc26",
   "metadata": {},
   "source": [
    "Q1: Which function is used to open a file? What are the different modes of opening a file? Explain each mode\n",
    "of file opening."
   ]
  },
  {
   "cell_type": "markdown",
   "id": "df9bfb9f-9503-422c-b3f9-6cf0e3cd58fe",
   "metadata": {},
   "source": [
    "Answeer: The open() function opens a file, and returns it as a file object. Below are the methods to open a file in python:\n",
    "\n",
    "r method: Open text file for reading. Raises an I/O error if the file does not exist.\n",
    "\n",
    "r+ method: Open the file for reading and writing. Raises an I/O error if the file does not exist.\n",
    "\n",
    "w method: Open the file for writing. Truncates the file if it already exists. Creates a new file if it does not exist.\n",
    "\n",
    "w+ method: Open the file for reading and writing. Truncates the file if it already exists. Creates a new file if it does not exist.\n",
    "\n",
    "a method: Open the file for writing. The data being written will be inserted at the end of the file. Creates a new file if it does not exist.\n",
    "\n",
    "a+ method: Open the file for reading and writing. The data being written will be inserted at the end of the file. Creates a new file if it does not exist."
   ]
  },
  {
   "cell_type": "markdown",
   "id": "cda8bbfa-deec-475f-b7ff-0dfe49dd02ec",
   "metadata": {},
   "source": [
    "Q2: Why close() function is used? Why is it important to close a file?"
   ]
  },
  {
   "cell_type": "markdown",
   "id": "1a4c3ad0-189a-4162-b925-f44698adce99",
   "metadata": {},
   "source": [
    "Answer: The close() function in Python, used to close a file. That is, when a file is opened using open() function and all the operation has been done on the file, then the file object or handler must be closed using the close() function to break the linkage of file from the program."
   ]
  },
  {
   "cell_type": "markdown",
   "id": "afbfc7a1-2304-4daa-9d50-db5c931e1b6f",
   "metadata": {},
   "source": [
    "Q6: Write a python program to create a text file. Write ‘I want to become a Data Scientist’ in that file. Then\n",
    "close the file. Open this file and read the content of the file."
   ]
  },
  {
   "cell_type": "code",
   "execution_count": 4,
   "id": "2b193d0e-e972-43a2-9723-71456410becd",
   "metadata": {},
   "outputs": [
    {
     "ename": "FileNotFoundError",
     "evalue": "[Errno 2] No such file or directory: 'test'",
     "output_type": "error",
     "traceback": [
      "\u001b[0;31m---------------------------------------------------------------------------\u001b[0m",
      "\u001b[0;31mFileNotFoundError\u001b[0m                         Traceback (most recent call last)",
      "Cell \u001b[0;32mIn[4], line 1\u001b[0m\n\u001b[0;32m----> 1\u001b[0m fh \u001b[38;5;241m=\u001b[39m \u001b[38;5;28;43mopen\u001b[39;49m\u001b[43m(\u001b[49m\u001b[38;5;124;43m\"\u001b[39;49m\u001b[38;5;124;43mtest\u001b[39;49m\u001b[38;5;124;43m\"\u001b[39;49m\u001b[43m,\u001b[49m\u001b[43m \u001b[49m\u001b[38;5;124;43m\"\u001b[39;49m\u001b[38;5;124;43mr\u001b[39;49m\u001b[38;5;124;43m\"\u001b[39;49m\u001b[43m)\u001b[49m\n\u001b[1;32m      2\u001b[0m \u001b[38;5;28mprint\u001b[39m(fh\u001b[38;5;241m.\u001b[39mread())\n\u001b[1;32m      3\u001b[0m fh\u001b[38;5;241m.\u001b[39mclose()\n",
      "File \u001b[0;32m/opt/conda/lib/python3.10/site-packages/IPython/core/interactiveshell.py:282\u001b[0m, in \u001b[0;36m_modified_open\u001b[0;34m(file, *args, **kwargs)\u001b[0m\n\u001b[1;32m    275\u001b[0m \u001b[38;5;28;01mif\u001b[39;00m file \u001b[38;5;129;01min\u001b[39;00m {\u001b[38;5;241m0\u001b[39m, \u001b[38;5;241m1\u001b[39m, \u001b[38;5;241m2\u001b[39m}:\n\u001b[1;32m    276\u001b[0m     \u001b[38;5;28;01mraise\u001b[39;00m \u001b[38;5;167;01mValueError\u001b[39;00m(\n\u001b[1;32m    277\u001b[0m         \u001b[38;5;124mf\u001b[39m\u001b[38;5;124m\"\u001b[39m\u001b[38;5;124mIPython won\u001b[39m\u001b[38;5;124m'\u001b[39m\u001b[38;5;124mt let you open fd=\u001b[39m\u001b[38;5;132;01m{\u001b[39;00mfile\u001b[38;5;132;01m}\u001b[39;00m\u001b[38;5;124m by default \u001b[39m\u001b[38;5;124m\"\u001b[39m\n\u001b[1;32m    278\u001b[0m         \u001b[38;5;124m\"\u001b[39m\u001b[38;5;124mas it is likely to crash IPython. If you know what you are doing, \u001b[39m\u001b[38;5;124m\"\u001b[39m\n\u001b[1;32m    279\u001b[0m         \u001b[38;5;124m\"\u001b[39m\u001b[38;5;124myou can use builtins\u001b[39m\u001b[38;5;124m'\u001b[39m\u001b[38;5;124m open.\u001b[39m\u001b[38;5;124m\"\u001b[39m\n\u001b[1;32m    280\u001b[0m     )\n\u001b[0;32m--> 282\u001b[0m \u001b[38;5;28;01mreturn\u001b[39;00m \u001b[43mio_open\u001b[49m\u001b[43m(\u001b[49m\u001b[43mfile\u001b[49m\u001b[43m,\u001b[49m\u001b[43m \u001b[49m\u001b[38;5;241;43m*\u001b[39;49m\u001b[43margs\u001b[49m\u001b[43m,\u001b[49m\u001b[43m \u001b[49m\u001b[38;5;241;43m*\u001b[39;49m\u001b[38;5;241;43m*\u001b[39;49m\u001b[43mkwargs\u001b[49m\u001b[43m)\u001b[49m\n",
      "\u001b[0;31mFileNotFoundError\u001b[0m: [Errno 2] No such file or directory: 'test'"
     ]
    }
   ],
   "source": [
    "fh = open(\"test\", \"r\")\n",
    "print(fh.read())\n",
    "fh.close()"
   ]
  },
  {
   "cell_type": "markdown",
   "id": "88b85ae4-84a5-44f5-8d5d-ed6cf277df3b",
   "metadata": {},
   "source": [
    "Q3: Explain the following with python code: read(), readline() and readlines().\n",
    "\n",
    "Answer: read(): This function reads the entire file and returns a string.\n",
    "\n",
    "readline(): This function reads lines from that file and returns as a string.\n",
    "\n",
    "readlines(): will return all the lines in a file in the format of a list where each element is a line in the file."
   ]
  },
  {
   "cell_type": "markdown",
   "id": "1041c146-1a1e-4fc5-86e0-c2e8dfb4885e",
   "metadata": {},
   "source": [
    "Q4: Explain why with statement is used with open(). What is the advantage of using with statement and\n",
    "open() together?\n",
    "\n",
    "Answer: When you call the open() function using the with statement, the file closes automatically after you've processed the file. The with statement is a replacement for commonly used try/finally error-handling statements.\n",
    "\n",
    "With keyword reduces the overheads involve in file handling operations like closing the file after operation or handling the file closing with exceptions. When file is opened using “with” it will manage these things i.e. file will be automatically closed after operations."
   ]
  },
  {
   "cell_type": "markdown",
   "id": "6a681f3f-aced-428c-a088-36dce98c405d",
   "metadata": {},
   "source": [
    "Q5: Explain the write() and writelines() functions. Give a suitable example.\n",
    "\n",
    "Answer: The write() function will write the content in the file without adding any extra characters. writelines () function writes the content of a list to a file."
   ]
  }
 ],
 "metadata": {
  "kernelspec": {
   "display_name": "Python 3 (ipykernel)",
   "language": "python",
   "name": "python3"
  },
  "language_info": {
   "codemirror_mode": {
    "name": "ipython",
    "version": 3
   },
   "file_extension": ".py",
   "mimetype": "text/x-python",
   "name": "python",
   "nbconvert_exporter": "python",
   "pygments_lexer": "ipython3",
   "version": "3.10.8"
  }
 },
 "nbformat": 4,
 "nbformat_minor": 5
}
